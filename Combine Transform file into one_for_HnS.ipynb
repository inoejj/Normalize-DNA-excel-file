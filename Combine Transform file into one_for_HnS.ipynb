{
 "cells": [
  {
   "cell_type": "code",
   "execution_count": 2,
   "metadata": {},
   "outputs": [
    {
     "name": "stdout",
     "output_type": "stream",
     "text": [
      "Please name the output file\n",
      "01222019_Pool4_p3_to_p5_Pool5_p2_to_p6_Pool6_p1_p2_8617807\n",
      "The output file is 01222019_Pool4_p3_to_p5_Pool5_p2_to_p6_Pool6_p1_p2_8617807\n"
     ]
    }
   ],
   "source": [
    "import pandas as pd\n",
    "import numpy as np\n",
    "import glob\n",
    "import re\n",
    "\n",
    "\n",
    "all_data = pd.DataFrame()\n",
    "for f in glob.glob('**_Transform.xlsx'):\n",
    "   df = pd.read_excel(f)\n",
    "   all_data = all_data.append(df, ignore_index=True)\n",
    "\n",
    "all_data=all_data[['Wells','Wells_96','plate_name','Pathlength','A260','A280','A320','A230','A260/280','Dilution','Ext_Coef','Concentration_SPM','Conc_Euro','Stock_Vol','Final_Conc','Wells_96','Vol_to_add']]    \n",
    "all_data=all_data.sort_values(by=['plate_name'])\n",
    "print('Please name the output file :')\n",
    "x=input()\n",
    "writer = pd.ExcelWriter( x +'.xlsx', engine='xlsxwriter')\n",
    "all_data.to_excel(writer, sheet_name='Sheet1')\n",
    "writer.save()\n",
    "\n",
    "print('The output file is ' +x+'xlsx')"
   ]
  },
  {
   "cell_type": "code",
   "execution_count": null,
   "metadata": {},
   "outputs": [],
   "source": []
  }
 ],
 "metadata": {
  "kernelspec": {
   "display_name": "Python 3",
   "language": "python",
   "name": "python3"
  },
  "language_info": {
   "codemirror_mode": {
    "name": "ipython",
    "version": 3
   },
   "file_extension": ".py",
   "mimetype": "text/x-python",
   "name": "python",
   "nbconvert_exporter": "python",
   "pygments_lexer": "ipython3",
   "version": "3.7.0"
  }
 },
 "nbformat": 4,
 "nbformat_minor": 2
}
