{
 "cells": [
  {
   "cell_type": "code",
   "execution_count": 1,
   "metadata": {},
   "outputs": [
    {
     "name": "stdout",
     "output_type": "stream",
     "text": [
      "Please name the output file\n",
      "DSPNGS_52_97_Transformed\n",
      "The output file is DSPNGS_52_97_Transformed\n"
     ]
    }
   ],
   "source": [
    "import pandas as pd\n",
    "import numpy as np\n",
    "import glob\n",
    "import re\n",
    "\n",
    "\n",
    "all_data = pd.DataFrame()\n",
    "for f in glob.glob('**_Transform.xlsx'):\n",
    "   df = pd.read_excel(f)\n",
    "   all_data = all_data.append(df, ignore_index=True)\n",
    "\n",
    "all_data=all_data[['Wells','Wells_96','plate_name','Pathlength','A260','A280','A320','A230','A260/280','Dilution','Ext_Coef','Concentration_SPM','ND8000','Conc_Euro','Tgt_Conc','Tgt_Vol','Oligo_Vol','TE_Vol']]    \n",
    "all_data=all_data.sort_values(by=['plate_name'])\n",
    "print('Please name the output file')\n",
    "x=input()\n",
    "writer = pd.ExcelWriter( x +'.xlsx', engine='xlsxwriter')\n",
    "all_data.to_excel(writer, sheet_name='Sheet1')\n",
    "writer.save()\n",
    "\n",
    "print('The output file is ' +x)"
   ]
  },
  {
   "cell_type": "code",
   "execution_count": null,
   "metadata": {},
   "outputs": [],
   "source": []
  }
 ],
 "metadata": {
  "kernelspec": {
   "display_name": "Python 3",
   "language": "python",
   "name": "python3"
  },
  "language_info": {
   "codemirror_mode": {
    "name": "ipython",
    "version": 3
   },
   "file_extension": ".py",
   "mimetype": "text/x-python",
   "name": "python",
   "nbconvert_exporter": "python",
   "pygments_lexer": "ipython3",
   "version": "3.7.0"
  }
 },
 "nbformat": 4,
 "nbformat_minor": 2
}
